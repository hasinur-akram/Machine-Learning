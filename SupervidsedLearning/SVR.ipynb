{
 "cells": [
  {
   "cell_type": "markdown",
   "source": [
    "# SVR = Support Vector Regression"
   ],
   "metadata": {}
  },
  {
   "cell_type": "code",
   "execution_count": 38,
   "source": [
    "import pandas as pd\r\n",
    "import numpy as np\r\n",
    "import matplotlib as plt\r\n",
    "import seaborn as sns\r\n",
    "import random\r\n",
    "random.seed(0)"
   ],
   "outputs": [],
   "metadata": {}
  },
  {
   "cell_type": "code",
   "execution_count": 39,
   "source": [
    "data = pd.read_csv(\"FuelConsumption.csv\")\r\n",
    "data.head()"
   ],
   "outputs": [
    {
     "output_type": "execute_result",
     "data": {
      "text/html": [
       "<div>\n",
       "<style scoped>\n",
       "    .dataframe tbody tr th:only-of-type {\n",
       "        vertical-align: middle;\n",
       "    }\n",
       "\n",
       "    .dataframe tbody tr th {\n",
       "        vertical-align: top;\n",
       "    }\n",
       "\n",
       "    .dataframe thead th {\n",
       "        text-align: right;\n",
       "    }\n",
       "</style>\n",
       "<table border=\"1\" class=\"dataframe\">\n",
       "  <thead>\n",
       "    <tr style=\"text-align: right;\">\n",
       "      <th></th>\n",
       "      <th>MODELYEAR</th>\n",
       "      <th>MAKE</th>\n",
       "      <th>MODEL</th>\n",
       "      <th>VEHICLECLASS</th>\n",
       "      <th>ENGINESIZE</th>\n",
       "      <th>CYLINDERS</th>\n",
       "      <th>TRANSMISSION</th>\n",
       "      <th>FUELTYPE</th>\n",
       "      <th>FUELCONSUMPTION_CITY</th>\n",
       "      <th>FUELCONSUMPTION_HWY</th>\n",
       "      <th>FUELCONSUMPTION_COMB</th>\n",
       "      <th>FUELCONSUMPTION_COMB_MPG</th>\n",
       "      <th>CO2EMISSIONS</th>\n",
       "    </tr>\n",
       "  </thead>\n",
       "  <tbody>\n",
       "    <tr>\n",
       "      <th>0</th>\n",
       "      <td>2014</td>\n",
       "      <td>ACURA</td>\n",
       "      <td>ILX</td>\n",
       "      <td>COMPACT</td>\n",
       "      <td>2.0</td>\n",
       "      <td>4</td>\n",
       "      <td>AS5</td>\n",
       "      <td>Z</td>\n",
       "      <td>9.9</td>\n",
       "      <td>6.7</td>\n",
       "      <td>8.5</td>\n",
       "      <td>33</td>\n",
       "      <td>196</td>\n",
       "    </tr>\n",
       "    <tr>\n",
       "      <th>1</th>\n",
       "      <td>2014</td>\n",
       "      <td>ACURA</td>\n",
       "      <td>ILX</td>\n",
       "      <td>COMPACT</td>\n",
       "      <td>2.4</td>\n",
       "      <td>4</td>\n",
       "      <td>M6</td>\n",
       "      <td>Z</td>\n",
       "      <td>11.2</td>\n",
       "      <td>7.7</td>\n",
       "      <td>9.6</td>\n",
       "      <td>29</td>\n",
       "      <td>221</td>\n",
       "    </tr>\n",
       "    <tr>\n",
       "      <th>2</th>\n",
       "      <td>2014</td>\n",
       "      <td>ACURA</td>\n",
       "      <td>ILX HYBRID</td>\n",
       "      <td>COMPACT</td>\n",
       "      <td>1.5</td>\n",
       "      <td>4</td>\n",
       "      <td>AV7</td>\n",
       "      <td>Z</td>\n",
       "      <td>6.0</td>\n",
       "      <td>5.8</td>\n",
       "      <td>5.9</td>\n",
       "      <td>48</td>\n",
       "      <td>136</td>\n",
       "    </tr>\n",
       "    <tr>\n",
       "      <th>3</th>\n",
       "      <td>2014</td>\n",
       "      <td>ACURA</td>\n",
       "      <td>MDX 4WD</td>\n",
       "      <td>SUV - SMALL</td>\n",
       "      <td>3.5</td>\n",
       "      <td>6</td>\n",
       "      <td>AS6</td>\n",
       "      <td>Z</td>\n",
       "      <td>12.7</td>\n",
       "      <td>9.1</td>\n",
       "      <td>11.1</td>\n",
       "      <td>25</td>\n",
       "      <td>255</td>\n",
       "    </tr>\n",
       "    <tr>\n",
       "      <th>4</th>\n",
       "      <td>2014</td>\n",
       "      <td>ACURA</td>\n",
       "      <td>RDX AWD</td>\n",
       "      <td>SUV - SMALL</td>\n",
       "      <td>3.5</td>\n",
       "      <td>6</td>\n",
       "      <td>AS6</td>\n",
       "      <td>Z</td>\n",
       "      <td>12.1</td>\n",
       "      <td>8.7</td>\n",
       "      <td>10.6</td>\n",
       "      <td>27</td>\n",
       "      <td>244</td>\n",
       "    </tr>\n",
       "  </tbody>\n",
       "</table>\n",
       "</div>"
      ],
      "text/plain": [
       "   MODELYEAR   MAKE       MODEL VEHICLECLASS  ENGINESIZE  CYLINDERS  \\\n",
       "0       2014  ACURA         ILX      COMPACT         2.0          4   \n",
       "1       2014  ACURA         ILX      COMPACT         2.4          4   \n",
       "2       2014  ACURA  ILX HYBRID      COMPACT         1.5          4   \n",
       "3       2014  ACURA     MDX 4WD  SUV - SMALL         3.5          6   \n",
       "4       2014  ACURA     RDX AWD  SUV - SMALL         3.5          6   \n",
       "\n",
       "  TRANSMISSION FUELTYPE  FUELCONSUMPTION_CITY  FUELCONSUMPTION_HWY  \\\n",
       "0          AS5        Z                   9.9                  6.7   \n",
       "1           M6        Z                  11.2                  7.7   \n",
       "2          AV7        Z                   6.0                  5.8   \n",
       "3          AS6        Z                  12.7                  9.1   \n",
       "4          AS6        Z                  12.1                  8.7   \n",
       "\n",
       "   FUELCONSUMPTION_COMB  FUELCONSUMPTION_COMB_MPG  CO2EMISSIONS  \n",
       "0                   8.5                        33           196  \n",
       "1                   9.6                        29           221  \n",
       "2                   5.9                        48           136  \n",
       "3                  11.1                        25           255  \n",
       "4                  10.6                        27           244  "
      ]
     },
     "metadata": {},
     "execution_count": 39
    }
   ],
   "metadata": {}
  },
  {
   "cell_type": "markdown",
   "source": [
    "# Data Pre-processing"
   ],
   "metadata": {}
  },
  {
   "cell_type": "code",
   "execution_count": 40,
   "source": [
    "data.drop(columns=[\"MODELYEAR\", \"MAKE\", \"MODEL\", \"VEHICLECLASS\", \"FUELCONSUMPTION_COMB_MPG\"], inplace=True)\r\n",
    "data[[\"FUELTYPE\"]] = data[[\"FUELTYPE\"]].replace({\"X\":1, \"Z\":2, \"E\":3, \"D\":4})\r\n",
    "data.sort_values(by=['FUELCONSUMPTION_COMB'], inplace=True)\r\n",
    "data.head()"
   ],
   "outputs": [
    {
     "output_type": "execute_result",
     "data": {
      "text/html": [
       "<div>\n",
       "<style scoped>\n",
       "    .dataframe tbody tr th:only-of-type {\n",
       "        vertical-align: middle;\n",
       "    }\n",
       "\n",
       "    .dataframe tbody tr th {\n",
       "        vertical-align: top;\n",
       "    }\n",
       "\n",
       "    .dataframe thead th {\n",
       "        text-align: right;\n",
       "    }\n",
       "</style>\n",
       "<table border=\"1\" class=\"dataframe\">\n",
       "  <thead>\n",
       "    <tr style=\"text-align: right;\">\n",
       "      <th></th>\n",
       "      <th>ENGINESIZE</th>\n",
       "      <th>CYLINDERS</th>\n",
       "      <th>TRANSMISSION</th>\n",
       "      <th>FUELTYPE</th>\n",
       "      <th>FUELCONSUMPTION_CITY</th>\n",
       "      <th>FUELCONSUMPTION_HWY</th>\n",
       "      <th>FUELCONSUMPTION_COMB</th>\n",
       "      <th>CO2EMISSIONS</th>\n",
       "    </tr>\n",
       "  </thead>\n",
       "  <tbody>\n",
       "    <tr>\n",
       "      <th>988</th>\n",
       "      <td>1.5</td>\n",
       "      <td>4</td>\n",
       "      <td>AV</td>\n",
       "      <td>1</td>\n",
       "      <td>4.6</td>\n",
       "      <td>4.9</td>\n",
       "      <td>4.7</td>\n",
       "      <td>108</td>\n",
       "    </tr>\n",
       "    <tr>\n",
       "      <th>487</th>\n",
       "      <td>2.0</td>\n",
       "      <td>4</td>\n",
       "      <td>AV</td>\n",
       "      <td>1</td>\n",
       "      <td>4.7</td>\n",
       "      <td>4.9</td>\n",
       "      <td>4.8</td>\n",
       "      <td>110</td>\n",
       "    </tr>\n",
       "    <tr>\n",
       "      <th>987</th>\n",
       "      <td>1.8</td>\n",
       "      <td>4</td>\n",
       "      <td>AV</td>\n",
       "      <td>1</td>\n",
       "      <td>4.7</td>\n",
       "      <td>4.9</td>\n",
       "      <td>4.8</td>\n",
       "      <td>110</td>\n",
       "    </tr>\n",
       "    <tr>\n",
       "      <th>1042</th>\n",
       "      <td>1.4</td>\n",
       "      <td>4</td>\n",
       "      <td>AM7</td>\n",
       "      <td>2</td>\n",
       "      <td>5.6</td>\n",
       "      <td>5.2</td>\n",
       "      <td>5.4</td>\n",
       "      <td>124</td>\n",
       "    </tr>\n",
       "    <tr>\n",
       "      <th>415</th>\n",
       "      <td>2.0</td>\n",
       "      <td>4</td>\n",
       "      <td>AV</td>\n",
       "      <td>1</td>\n",
       "      <td>5.3</td>\n",
       "      <td>5.7</td>\n",
       "      <td>5.5</td>\n",
       "      <td>126</td>\n",
       "    </tr>\n",
       "  </tbody>\n",
       "</table>\n",
       "</div>"
      ],
      "text/plain": [
       "      ENGINESIZE  CYLINDERS TRANSMISSION  FUELTYPE  FUELCONSUMPTION_CITY  \\\n",
       "988          1.5          4           AV         1                   4.6   \n",
       "487          2.0          4           AV         1                   4.7   \n",
       "987          1.8          4           AV         1                   4.7   \n",
       "1042         1.4          4          AM7         2                   5.6   \n",
       "415          2.0          4           AV         1                   5.3   \n",
       "\n",
       "      FUELCONSUMPTION_HWY  FUELCONSUMPTION_COMB  CO2EMISSIONS  \n",
       "988                   4.9                   4.7           108  \n",
       "487                   4.9                   4.8           110  \n",
       "987                   4.9                   4.8           110  \n",
       "1042                  5.2                   5.4           124  \n",
       "415                   5.7                   5.5           126  "
      ]
     },
     "metadata": {},
     "execution_count": 40
    }
   ],
   "metadata": {}
  },
  {
   "cell_type": "markdown",
   "source": [
    "# SVR Model Split"
   ],
   "metadata": {}
  },
  {
   "cell_type": "code",
   "execution_count": 41,
   "source": [
    "X = data[[\"ENGINESIZE\",\"FUELCONSUMPTION_COMB\"]]\r\n",
    "Y = data[[\"CO2EMISSIONS\"]]\r\n",
    "\r\n",
    "from sklearn.model_selection import train_test_split\r\n",
    "xtrain, xtest, ytrain, ytest = train_test_split(X, Y, test_size=0.2, random_state=0)\r\n"
   ],
   "outputs": [],
   "metadata": {}
  },
  {
   "cell_type": "markdown",
   "source": [
    "# Model Init"
   ],
   "metadata": {}
  },
  {
   "cell_type": "code",
   "execution_count": 42,
   "source": [
    "from sklearn.svm import SVR\r\n",
    "\r\n",
    "svrR = SVR()\r\n",
    "svrL = SVR(kernel=\"linear\")\r\n",
    "svrP = SVR(kernel=\"poly\",degree=1)"
   ],
   "outputs": [],
   "metadata": {}
  },
  {
   "cell_type": "markdown",
   "source": [
    "# Model Train"
   ],
   "metadata": {}
  },
  {
   "cell_type": "code",
   "execution_count": 43,
   "source": [
    "svrR.fit(xtrain, ytrain.values.ravel())\r\n",
    "svrL.fit(xtrain, ytrain.values.ravel())\r\n",
    "svrP.fit(xtrain, ytrain.values.ravel())"
   ],
   "outputs": [
    {
     "output_type": "execute_result",
     "data": {
      "text/plain": [
       "SVR(degree=1, kernel='poly')"
      ]
     },
     "metadata": {},
     "execution_count": 43
    }
   ],
   "metadata": {}
  },
  {
   "cell_type": "markdown",
   "source": [
    "# Test Model"
   ],
   "metadata": {}
  },
  {
   "cell_type": "code",
   "execution_count": 44,
   "source": [
    "yhatR = svrR.predict(xtest)\r\n",
    "yhatL = svrL.predict(xtest)\r\n",
    "yhatP = svrP.predict(xtest)"
   ],
   "outputs": [],
   "metadata": {}
  },
  {
   "cell_type": "markdown",
   "source": [
    "# Model Evaluation"
   ],
   "metadata": {}
  },
  {
   "cell_type": "code",
   "execution_count": 45,
   "source": [
    "from sklearn.metrics import mean_squared_error, r2_score\r\n",
    "print(f\"============ RBF ==========\")\r\n",
    "print(\"MSE: \", mean_squared_error(yhatR, ytest.values.ravel()))\r\n",
    "print(\"R2 Score: \", r2_score(yhatR, ytest.values.ravel()))\r\n",
    "print(f\"============ Linear ==========\")\r\n",
    "print(\"MSE: \", mean_squared_error(yhatL, ytest.values.ravel()))\r\n",
    "print(\"R2 Score: \", r2_score(yhatL, ytest.values.ravel()))\r\n",
    "print(f\"============ Polynomial ==========\")\r\n",
    "print(\"MSE: \", mean_squared_error(yhatP, ytest.values.ravel()))\r\n",
    "print(\"R2 Score: \", r2_score(yhatP, ytest.values.ravel()))\r\n"
   ],
   "outputs": [
    {
     "output_type": "stream",
     "name": "stdout",
     "text": [
      "============ RBF ==========\n",
      "MSE:  837.118997951699\n",
      "R2 Score:  0.6628651838824833\n",
      "============ Linear ==========\n",
      "MSE:  1071.7965831496358\n",
      "R2 Score:  0.8237906384440603\n",
      "============ Polynomial ==========\n",
      "MSE:  575.6075526954336\n",
      "R2 Score:  0.8612970930004245\n"
     ]
    }
   ],
   "metadata": {}
  },
  {
   "cell_type": "markdown",
   "source": [
    "# Model Analysis & Visualization"
   ],
   "metadata": {}
  },
  {
   "cell_type": "code",
   "execution_count": 46,
   "source": [
    "import matplotlib.pyplot as plt\r\n",
    "\r\n",
    "svrR = SVR()\r\n",
    "svrL = SVR(kernel=\"linear\", epsilon=8)\r\n",
    "svrP = SVR(kernel=\"poly\",degree=2)\r\n",
    "\r\n",
    "## Training\r\n",
    "svrR.fit(xtrain[[\"ENGINESIZE\"]], ytrain.values.ravel())\r\n",
    "svrL.fit(xtrain[[\"ENGINESIZE\"]], ytrain.values.ravel())\r\n",
    "svrP.fit(xtrain[[\"ENGINESIZE\"]], ytrain.values.ravel())\r\n",
    "\r\n",
    "## Test Prediction\r\n",
    "yhatR = svrR.predict(xtest[[\"ENGINESIZE\"]])\r\n",
    "yhatL = svrL.predict(xtest[[\"ENGINESIZE\"]])\r\n",
    "yhatP = svrP.predict(xtest[[\"ENGINESIZE\"]])\r\n",
    "\r\n",
    "lineE = np.linspace(int(X[[\"ENGINESIZE\"]].values.min()), int(X[[\"ENGINESIZE\"]].values.max()),500).reshape(-1,1)\r\n",
    "lineF = np.linspace(int(X[[\"FUELCONSUMPTION_COMB\"]].values.min()), int(X[[\"FUELCONSUMPTION_COMB\"]].values.max()),500).reshape(-1,1)\r\n",
    "\r\n",
    "feature = pd.DataFrame(\r\n",
    "    {\r\n",
    "        \"E\": lineE[0],\r\n",
    "        \"F\": lineF[0]\r\n",
    "    },\r\n",
    "    index=list(range(500))\r\n",
    ")\r\n",
    "\r\n",
    "fig, axes = plt.subplots(1,1, figsize=(10,6))\r\n",
    "axes.scatter(xtrain[[\"ENGINESIZE\"]].values, ytrain.values, c=\"hotpink\", label=\"Data\")\r\n",
    "axes.plot(lineE, svrL.predict(lineE), c=\"darkorange\", label=\"Linear Prediction\", linewidth=4)\r\n",
    "axes.plot(lineE, svrR.predict(lineE), c=\"purple\", label=\"RBF Prediction\", linewidth=4)\r\n",
    "axes.plot(lineE, svrP.predict(lineE), c=\"lightblue\", label=\"polynomial Prediction\", linewidth=4)\r\n",
    "axes.legend()\r\n",
    "plt.show()"
   ],
   "outputs": [
    {
     "output_type": "display_data",
     "data": {
      "image/png": "[encoded data removed]",
      "text/plain": [
       "<Figure size 720x432 with 1 Axes>"
      ]
     },
     "metadata": {
      "needs_background": "light"
     }
    }
   ],
   "metadata": {}
  },
  {
   "cell_type": "code",
   "execution_count": 47,
   "source": [
    "'''import matplotlib.pyplot as plt\r\n",
    "\r\n",
    "svrR = SVR()\r\n",
    "svrL = SVR(kernel=\"linear\", epsilon=8)\r\n",
    "svrP = SVR(kernel=\"poly\",degree=2)\r\n",
    "\r\n",
    "## Training\r\n",
    "svrR.fit(xtrain[[\"ENGINESIZE\"]], ytrain.values.ravel())\r\n",
    "svrL.fit(xtrain[[\"ENGINESIZE\"]], ytrain.values.ravel())\r\n",
    "svrP.fit(xtrain[[\"ENGINESIZE\"]], ytrain.values.ravel())\r\n",
    "\r\n",
    "## Test Prediction\r\n",
    "yhatR = svrR.predict(xtest[[\"ENGINESIZE\"]])\r\n",
    "yhatL = svrL.predict(xtest[[\"ENGINESIZE\"]])\r\n",
    "yhatP = svrP.predict(xtest[[\"ENGINESIZE\"]])\r\n",
    "\r\n",
    "lineE = np.linspace(int(X[[\"ENGINESIZE\"]].values.min()), int(X[[\"ENGINESIZE\"]].values.max()),500).reshape(-1,1)\r\n",
    "lineF = np.linspace(int(X[[\"FUELCONSUMPTION_COMB\"]].values.min()), int(X[[\"FUELCONSUMPTION_COMB\"]].values.max()),500).reshape(-1,1)\r\n",
    "\r\n",
    "feature = pd.DataFrame(\r\n",
    "    {\r\n",
    "        \"E\": lineE[0],\r\n",
    "        \"F\": lineF[0]\r\n",
    "    },\r\n",
    "    index=list(range(500))\r\n",
    ")\r\n",
    "\r\n",
    "fig, axes = plt.subplots(1,1, figsize=(10,6))\r\n",
    "axes.scatter(xtrain[[\"ENGINESIZE\"]].values, ytrain.values, c=\"hotpink\", label=\"Data\")\r\n",
    "axes.plot(lineE, svrL.predict(lineE), c=\"darkorange\", label=\"Linear Prediction\", linewidth=4)\r\n",
    "axes.plot(lineE, svrR.predict(lineE), c=\"purple\", label=\"RBF Prediction\", linewidth=4)\r\n",
    "axes.plot(lineE, svrP.predict(lineE), c=\"lightblue\", label=\"polynomial Prediction\", linewidth=4)\r\n",
    "axes.legend()\r\n",
    "plt.show()"
   ],
   "outputs": [
    {
     "output_type": "error",
     "ename": "SyntaxError",
     "evalue": "EOF while scanning triple-quoted string literal (Temp/ipykernel_1300/4279387326.py, line 34)",
     "traceback": [
      "\u001b[1;36m  File \u001b[1;32m\"C:\\Users\\HASINU~1\\AppData\\Local\\Temp/ipykernel_1300/4279387326.py\"\u001b[1;36m, line \u001b[1;32m34\u001b[0m\n\u001b[1;33m    plt.show()\u001b[0m\n\u001b[1;37m              \n^\u001b[0m\n\u001b[1;31mSyntaxError\u001b[0m\u001b[1;31m:\u001b[0m EOF while scanning triple-quoted string literal\n"
     ]
    }
   ],
   "metadata": {}
  },
  {
   "cell_type": "markdown",
   "source": [
    "# Grid Search CV"
   ],
   "metadata": {}
  },
  {
   "cell_type": "code",
   "execution_count": null,
   "source": [
    "from sklearn.model_selection import GridSearchCV\r\n",
    "svrL = SVR(kernel=\"linear\")\r\n",
    "\r\n",
    "grid = GridSearchCV(\r\n",
    "    svrL,\r\n",
    "    param_grid={\r\n",
    "        \"C\": [10,20,30,40,50,60,70,80,90,100,110,120,140,160,180,200],\r\n",
    "        \"epsilon\": [0.01,0.1,0.5,1.5,2.5,3.5,4,6,8,10,12,14,16,18,20,22],\r\n",
    "        \"gamma\": [\"auto\",\"scale\",0.1]\r\n",
    "    },\r\n",
    "    scoring=\"neg_mean_squared_error\",\r\n",
    "    refit=True,\r\n",
    "    verbose=1,\r\n",
    "    cv = 5\r\n",
    ")\r\n",
    "\r\n",
    "## Fit\r\n",
    "grid.fit(xtrain[[\"ENGINESIZE\"]], ytrain.values.ravel())\r\n",
    "\r\n",
    "## get best hyperparameter\r\n",
    "\r\n",
    "grid.best_score_\r\n",
    "grid.best_params_"
   ],
   "outputs": [
    {
     "output_type": "stream",
     "name": "stdout",
     "text": [
      "Fitting 5 folds for each of 768 candidates, totalling 3840 fits\n"
     ]
    },
    {
     "output_type": "execute_result",
     "data": {
      "text/plain": [
       "{'C': 200, 'epsilon': 12, 'gamma': 'auto'}"
      ]
     },
     "metadata": {},
     "execution_count": 37
    }
   ],
   "metadata": {}
  },
  {
   "cell_type": "code",
   "execution_count": null,
   "source": [
    "import matplotlib.pyplot as plt\r\n",
    "\r\n",
    "svrR = SVR()\r\n",
    "svrL = SVR(kernel=\"linear\", C=200, epsilon=12)\r\n",
    "svrP = SVR(kernel=\"poly\",degree=2)\r\n",
    "\r\n",
    "## Training\r\n",
    "svrR.fit(xtrain[[\"ENGINESIZE\"]], ytrain.values.ravel())\r\n",
    "svrL.fit(xtrain[[\"ENGINESIZE\"]], ytrain.values.ravel())\r\n",
    "svrP.fit(xtrain[[\"ENGINESIZE\"]], ytrain.values.ravel())\r\n",
    "\r\n",
    "## Test Prediction\r\n",
    "yhatR = svrR.predict(xtest[[\"ENGINESIZE\"]])\r\n",
    "yhatL = svrL.predict(xtest[[\"ENGINESIZE\"]])\r\n",
    "yhatP = svrP.predict(xtest[[\"ENGINESIZE\"]])\r\n",
    "\r\n",
    "lineE = np.linspace(int(X[[\"ENGINESIZE\"]].values.min()), int(X[[\"ENGINESIZE\"]].values.max()),500).reshape(-1,1)\r\n",
    "lineF = np.linspace(int(X[[\"FUELCONSUMPTION_COMB\"]].values.min()), int(X[[\"FUELCONSUMPTION_COMB\"]].values.max()),500).reshape(-1,1)\r\n",
    "\r\n",
    "feature = pd.DataFrame(\r\n",
    "    {\r\n",
    "        \"E\": lineE[0],\r\n",
    "        \"F\": lineF[0]\r\n",
    "    },\r\n",
    "    index=list(range(500))\r\n",
    ")\r\n",
    "\r\n",
    "fig, axes = plt.subplots(1,1, figsize=(10,6))\r\n",
    "axes.scatter(xtrain[[\"ENGINESIZE\"]].values, ytrain.values, c=\"hotpink\", label=\"Data\")\r\n",
    "axes.plot(lineE, svrL.predict(lineE), c=\"darkorange\", label=\"Linear Prediction\", linewidth=4)\r\n",
    "axes.plot(lineE, svrR.predict(lineE), c=\"purple\", label=\"RBF Prediction\", linewidth=4)\r\n",
    "axes.plot(lineE, svrP.predict(lineE), c=\"lightblue\", label=\"polynomial Prediction\", linewidth=4)\r\n",
    "axes.legend()\r\n",
    "plt.show()"
   ],
   "outputs": [
    {
     "output_type": "display_data",
     "data": {
      "image/png": "[encoded data removed]",
      "text/plain": [
       "<Figure size 720x432 with 1 Axes>"
      ]
     },
     "metadata": {
      "needs_background": "light"
     }
    }
   ],
   "metadata": {}
  },
  {
   "cell_type": "code",
   "execution_count": 48,
   "source": [
    "import matplotlib.pyplot as plt\r\n",
    "\r\n",
    "svrR = SVR(C=200, epsilon=12, gamma=\"auto\")\r\n",
    "svrL = SVR(kernel=\"linear\", C=200, epsilon=12, gamma=\"auto\")\r\n",
    "svrP = SVR(kernel=\"poly\",C=200, epsilon=12, gamma=\"auto\")\r\n",
    "\r\n",
    "## Training\r\n",
    "svrR.fit(xtrain[[\"ENGINESIZE\"]], ytrain.values.ravel())\r\n",
    "svrL.fit(xtrain[[\"ENGINESIZE\"]], ytrain.values.ravel())\r\n",
    "svrP.fit(xtrain[[\"ENGINESIZE\"]], ytrain.values.ravel())\r\n",
    "\r\n",
    "## Test Prediction\r\n",
    "yhatR = svrR.predict(xtest[[\"ENGINESIZE\"]])\r\n",
    "yhatL = svrL.predict(xtest[[\"ENGINESIZE\"]])\r\n",
    "yhatP = svrP.predict(xtest[[\"ENGINESIZE\"]])\r\n",
    "\r\n",
    "lineE = np.linspace(int(X[[\"ENGINESIZE\"]].values.min()), int(X[[\"ENGINESIZE\"]].values.max()),500).reshape(-1,1)\r\n",
    "lineF = np.linspace(int(X[[\"FUELCONSUMPTION_COMB\"]].values.min()), int(X[[\"FUELCONSUMPTION_COMB\"]].values.max()),500).reshape(-1,1)\r\n",
    "\r\n",
    "feature = pd.DataFrame(\r\n",
    "    {\r\n",
    "        \"E\": lineE[0],\r\n",
    "        \"F\": lineF[0]\r\n",
    "    },\r\n",
    "    index=list(range(500))\r\n",
    ")\r\n",
    "\r\n",
    "fig, axes = plt.subplots(1,1, figsize=(10,6))\r\n",
    "axes.scatter(xtrain[[\"ENGINESIZE\"]].values, ytrain.values, c=\"hotpink\", label=\"Data\")\r\n",
    "axes.plot(lineE, svrL.predict(lineE), c=\"darkorange\", label=\"Linear Prediction\", linewidth=4)\r\n",
    "axes.plot(lineE, svrR.predict(lineE), c=\"purple\", label=\"RBF Prediction\", linewidth=4)\r\n",
    "axes.plot(lineE, svrP.predict(lineE), c=\"lightblue\", label=\"polynomial Prediction\", linewidth=4)\r\n",
    "axes.legend()\r\n",
    "plt.show()"
   ],
   "outputs": [
    {
     "output_type": "display_data",
     "data": {
      "image/png": "[encoded data removed]",
      "text/plain": [
       "<Figure size 720x432 with 1 Axes>"
      ]
     },
     "metadata": {
      "needs_background": "light"
     }
    }
   ],
   "metadata": {}
  }
 ],
 "metadata": {
  "orig_nbformat": 4,
  "language_info": {
   "name": "python",
   "version": "3.9.7",
   "mimetype": "text/x-python",
   "codemirror_mode": {
    "name": "ipython",
    "version": 3
   },
   "pygments_lexer": "ipython3",
   "nbconvert_exporter": "python",
   "file_extension": ".py"
  },
  "kernelspec": {
   "name": "python3",
   "display_name": "Python 3.9.7 64-bit"
  },
  "interpreter": {
   "hash": "9aaa1ab1202118063e00d2005169fdaf25a41351579761e07335c51f4a55e7ee"
  }
 },
 "nbformat": 4,
 "nbformat_minor": 2
}