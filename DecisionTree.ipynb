{
 "cells": [
  {
   "cell_type": "code",
   "execution_count": null,
   "source": [
    "import numpy as np\r\n",
    "import pandas as pd\r\n",
    "import seaborn as sns\r\n",
    "import matplotlib.pyplot as plt\r\n",
    "import random\r\n",
    "random.seed(0)"
   ],
   "outputs": [],
   "metadata": {}
  },
  {
   "cell_type": "code",
   "execution_count": null,
   "source": [
    "data = pd.read_csv(\"FuelConsumption.csv\")\r\n",
    "data.head()"
   ],
   "outputs": [],
   "metadata": {}
  },
  {
   "cell_type": "code",
   "execution_count": null,
   "source": [
    "data.corr()"
   ],
   "outputs": [],
   "metadata": {}
  },
  {
   "cell_type": "code",
   "execution_count": null,
   "source": [
    "data.drop(columns=[\"MODELYEAR\", \"MAKE\", \"MODEL\", \"VEHICLECLASS\", \"FUELCONSUMPTION_COMB_MPG\"], inplace=True)\r\n",
    "data.head()"
   ],
   "outputs": [],
   "metadata": {}
  },
  {
   "cell_type": "code",
   "execution_count": null,
   "source": [
    "data[[\"FUELTYPE\"]].value_counts()"
   ],
   "outputs": [],
   "metadata": {}
  },
  {
   "cell_type": "code",
   "execution_count": null,
   "source": [
    "data[[\"FUELTYPE\"]] = data[[\"FUELTYPE\"]].replace({\"X\":1, \"Z\":2, \"E\":3, \"D\":4})"
   ],
   "outputs": [],
   "metadata": {}
  },
  {
   "cell_type": "code",
   "execution_count": null,
   "source": [
    "data[[\"FUELTYPE\"]].value_counts()"
   ],
   "outputs": [],
   "metadata": {}
  },
  {
   "cell_type": "code",
   "execution_count": null,
   "source": [
    "data[[\"TRANSMISSION\"]].value_counts()"
   ],
   "outputs": [],
   "metadata": {}
  },
  {
   "cell_type": "code",
   "execution_count": null,
   "source": [
    "data.corr()\r\n",
    "sns.pairplot(data)"
   ],
   "outputs": [],
   "metadata": {}
  },
  {
   "cell_type": "code",
   "execution_count": null,
   "source": [
    "data.sort_values(by=['FUELCONSUMPTION_COMB'], inplace=True)"
   ],
   "outputs": [],
   "metadata": {}
  },
  {
   "cell_type": "code",
   "execution_count": null,
   "source": [
    "X = data[[\"ENGINESIZE\",\"CYLINDERS\",\"FUELTYPE\",\"FUELCONSUMPTION_CITY\",\"FUELCONSUMPTION_HWY\",\"FUELCONSUMPTION_COMB\"]]\r\n",
    "Y = data[[\"CO2EMISSIONS\"]]"
   ],
   "outputs": [],
   "metadata": {}
  },
  {
   "cell_type": "code",
   "execution_count": null,
   "source": [
    "from sklearn.model_selection import train_test_split\r\n",
    "Xtrain, Xtest, ytrain, ytest = train_test_split(X, Y, test_size=0.2, random_state=0)"
   ],
   "outputs": [],
   "metadata": {}
  },
  {
   "cell_type": "markdown",
   "source": [
    "# Decision Tree"
   ],
   "metadata": {}
  },
  {
   "cell_type": "code",
   "execution_count": null,
   "source": [
    "from sklearn import tree\r\n",
    "dt_model = tree.DecisionTreeRegressor()\r\n",
    "dt_model.fit(X,Y)"
   ],
   "outputs": [],
   "metadata": {}
  },
  {
   "cell_type": "code",
   "execution_count": null,
   "source": [
    "dt_model.predict(Xtest)"
   ],
   "outputs": [],
   "metadata": {}
  },
  {
   "cell_type": "code",
   "execution_count": null,
   "source": [
    "from sklearn.model_selection import KFold\r\n",
    "from sklearn.metrics import mean_squared_error, mean_absolute_percentage_error, r2_score\r\n",
    "\r\n",
    "yhat = dt_model.predict(Xtest)\r\n",
    "print(\"MAE: \",100 - mean_absolute_percentage_error(yhat, ytest)*100)\r\n",
    "print(\"MSE: \" ,mean_squared_error(yhat, ytest))\r\n",
    "print(\"R2 Scoore: \", r2_score(yhat, ytest))"
   ],
   "outputs": [],
   "metadata": {}
  },
  {
   "cell_type": "code",
   "execution_count": null,
   "source": [
    "from sklearn import tree\r\n",
    "dt_model = tree.DecisionTreeRegressor(max_features=3)\r\n",
    "dt_model.fit(X,Y)\r\n",
    "\r\n",
    "yhat = dt_model.predict(Xtest)\r\n",
    "print(\"MAE: \",100 - mean_absolute_percentage_error(yhat, ytest)*100)\r\n",
    "print(\"MSE: \" ,mean_squared_error(yhat, ytest))\r\n",
    "print(\"R2 Scoore: \", r2_score(yhat, ytest))"
   ],
   "outputs": [],
   "metadata": {}
  },
  {
   "cell_type": "code",
   "execution_count": null,
   "source": [
    "from sklearn import tree\r\n",
    "dt_model = tree.DecisionTreeRegressor(max_depth=5)\r\n",
    "dt_model.fit(X,Y)\r\n",
    "\r\n",
    "yhat = dt_model.predict(Xtest)\r\n",
    "print(\"MAE: \",100 - mean_absolute_percentage_error(yhat, ytest)*100)\r\n",
    "print(\"MSE: \" ,mean_squared_error(yhat, ytest))\r\n",
    "print(\"R2 Scoore: \", r2_score(yhat, ytest))"
   ],
   "outputs": [],
   "metadata": {}
  },
  {
   "cell_type": "code",
   "execution_count": null,
   "source": [
    "int(np.sqrt(np.array([860])))"
   ],
   "outputs": [],
   "metadata": {}
  },
  {
   "cell_type": "code",
   "execution_count": null,
   "source": [
    "dt_model = tree.DecisionTreeRegressor(max_depth=5, max_leaf_nodes=int(np.sqrt(np.array([860]))))\r\n",
    "dt_model.fit(X,Y)\r\n",
    "\r\n",
    "yhat = dt_model.predict(Xtest)\r\n",
    "print(\"MAE: \",100 - mean_absolute_percentage_error(yhat, ytest)*100)\r\n",
    "print(\"MSE: \" ,mean_squared_error(yhat, ytest))\r\n",
    "print(\"R2 Scoore: \", r2_score(yhat, ytest))"
   ],
   "outputs": [],
   "metadata": {}
  },
  {
   "cell_type": "code",
   "execution_count": null,
   "source": [
    "dt_model = tree.DecisionTreeRegressor(max_features=3,max_depth=3, max_leaf_nodes=int(np.sqrt(np.array([860]))))\r\n",
    "dt_model.fit(X,Y)\r\n",
    "\r\n",
    "yhat = dt_model.predict(Xtest)\r\n",
    "print(\"MAE: \",100 - mean_absolute_percentage_error(yhat, ytest)*100)\r\n",
    "print(\"MSE: \" ,mean_squared_error(yhat, ytest))\r\n",
    "print(\"R2 Scoore: \", r2_score(yhat, ytest))"
   ],
   "outputs": [],
   "metadata": {}
  },
  {
   "cell_type": "code",
   "execution_count": null,
   "source": [
    "dt_model = tree.DecisionTreeRegressor(criterion=\"mae\", max_features=3,max_depth=3, max_leaf_nodes=int(np.sqrt(np.array([860]))))\r\n",
    "dt_model.fit(X,Y)\r\n",
    "\r\n",
    "yhat = dt_model.predict(Xtest)\r\n",
    "print(\"MAE: \",100 - mean_absolute_percentage_error(yhat, ytest)*100)\r\n",
    "print(\"MSE: \" ,mean_squared_error(yhat, ytest))\r\n",
    "print(\"R2 Scoore: \", r2_score(yhat, ytest))"
   ],
   "outputs": [],
   "metadata": {}
  },
  {
   "cell_type": "code",
   "execution_count": null,
   "source": [
    "dt_model = tree.DecisionTreeRegressor(criterion=\"mse\", max_features=3,max_depth=3, max_leaf_nodes=int(np.sqrt(np.array([860]))))\r\n",
    "dt_model.fit(X,Y)\r\n",
    "\r\n",
    "yhat = dt_model.predict(Xtest)\r\n",
    "print(\"MAE: \",100 - mean_absolute_percentage_error(yhat, ytest)*100)\r\n",
    "print(\"MSE: \" ,mean_squared_error(yhat, ytest))\r\n",
    "print(\"R2 Scoore: \", r2_score(yhat, ytest))"
   ],
   "outputs": [],
   "metadata": {}
  },
  {
   "cell_type": "code",
   "execution_count": null,
   "source": [
    "dt_model = tree.DecisionTreeRegressor(criterion=\"mse\", max_features='sqrt',max_depth=3, max_leaf_nodes=int(np.sqrt(np.array([860]))))\r\n",
    "dt_model.fit(X,Y)\r\n",
    "\r\n",
    "yhat = dt_model.predict(Xtest)\r\n",
    "print(\"MAE: \",100 - mean_absolute_percentage_error(yhat, ytest)*100)\r\n",
    "print(\"MSE: \" ,mean_squared_error(yhat, ytest))\r\n",
    "print(\"R2 Scoore: \", r2_score(yhat, ytest))"
   ],
   "outputs": [],
   "metadata": {}
  },
  {
   "cell_type": "code",
   "execution_count": null,
   "source": [
    "dt_model = tree.DecisionTreeRegressor(criterion=\"mae\", max_features='log2',max_depth=3, max_leaf_nodes=int(np.sqrt(np.array([860]))))\r\n",
    "dt_model.fit(X,Y)\r\n",
    "\r\n",
    "yhat = dt_model.predict(Xtest)\r\n",
    "print(\"MAE: \",100 - mean_absolute_percentage_error(yhat, ytest)*100)\r\n",
    "print(\"MSE: \" ,mean_squared_error(yhat, ytest))\r\n",
    "print(\"R2 Scoore: \", r2_score(yhat, ytest))"
   ],
   "outputs": [],
   "metadata": {}
  },
  {
   "cell_type": "markdown",
   "source": [
    "# Ploting"
   ],
   "metadata": {}
  },
  {
   "cell_type": "code",
   "execution_count": null,
   "source": [
    "import matplotlib.pyplot as plt\r\n",
    "plt.scatter(Xtest[[\"FUELCONSUMPTION_COMB\"]].values, ytest.values)\r\n",
    "plt.plot(Xtest, yhat)\r\n",
    "plt.show()"
   ],
   "outputs": [],
   "metadata": {}
  },
  {
   "cell_type": "markdown",
   "source": [
    "# Cross Valiodation"
   ],
   "metadata": {}
  },
  {
   "cell_type": "code",
   "execution_count": null,
   "source": [
    "dt_model = tree.DecisionTreeRegressor(criterion=\"mae\", max_features='log2',max_depth=3, max_leaf_nodes=int(np.sqrt(np.array([860]))))\r\n",
    "dt_model.fit(X,Y)\r\n",
    "\r\n",
    "yhat = dt_model.predict(Xtest)\r\n",
    "print(\"MAE: \",100 - mean_absolute_percentage_error(yhat, ytest)*100)\r\n",
    "print(\"MSE: \" ,mean_squared_error(yhat, ytest))\r\n",
    "print(\"R2 Scoore: \", r2_score(yhat, ytest))\r\n",
    "\r\n",
    "from sklearn.model_selection import cross_validate\r\n",
    "cross_validate(dt_model, Xtrain, cv=10)"
   ],
   "outputs": [],
   "metadata": {}
  }
 ],
 "metadata": {
  "orig_nbformat": 4,
  "language_info": {
   "name": "python",
   "version": "3.9.6",
   "mimetype": "text/x-python",
   "codemirror_mode": {
    "name": "ipython",
    "version": 3
   },
   "pygments_lexer": "ipython3",
   "nbconvert_exporter": "python",
   "file_extension": ".py"
  },
  "kernelspec": {
   "name": "python3",
   "display_name": "Python 3.9.6 64-bit"
  },
  "interpreter": {
   "hash": "2246830846c7bbdebbe8c527a98e3ff17e241a136d278382e64292957503ab13"
  }
 },
 "nbformat": 4,
 "nbformat_minor": 2
}